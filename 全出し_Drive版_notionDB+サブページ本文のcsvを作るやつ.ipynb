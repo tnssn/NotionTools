{
  "cells": [
    {
      "cell_type": "markdown",
      "metadata": {
        "id": "view-in-github",
        "colab_type": "text"
      },
      "source": [
        "<a href=\"https://colab.research.google.com/github/tnssn/NotionTools/blob/main/%E5%85%A8%E5%87%BA%E3%81%97_Drive%E7%89%88_notionDB%2B%E3%82%B5%E3%83%96%E3%83%9A%E3%83%BC%E3%82%B8%E6%9C%AC%E6%96%87%E3%81%AEcsv%E3%82%92%E4%BD%9C%E3%82%8B%E3%82%84%E3%81%A4.ipynb\" target=\"_parent\"><img src=\"https://colab.research.google.com/assets/colab-badge.svg\" alt=\"Open In Colab\"/></a>"
      ]
    },
    {
      "cell_type": "code",
      "execution_count": null,
      "metadata": {
        "colab": {
          "base_uri": "https://localhost:8080/"
        },
        "id": "xHYwYZQrBrSf",
        "outputId": "4ed67682-a555-4d44-ea9d-3c66302c5e20"
      },
      "outputs": [
        {
          "output_type": "stream",
          "name": "stdout",
          "text": [
            "Hello, Notion API!\n"
          ]
        }
      ],
      "source": [
        "print(\"Hello, Notion API!\")"
      ]
    },
    {
      "cell_type": "code",
      "source": [
        "import os\n",
        "import requests\n",
        "import json\n",
        "import pandas as pd\n",
        "from datetime import datetime\n",
        "from google.colab import drive\n",
        "\n",
        "# 🔹 Google Drive をマウント\n",
        "drive.mount('/content/drive')\n",
        "\n",
        "# ここにAPIキーをセット（Colabのセッションごとに入力が必要）\n",
        "NOTION_API_KEY = os.environ[\"NOTION_API_KEY\"]\n",
        "\n",
        "# 🔹 データベースIDと対応するファイル名を設定\n",
        "DATABASES = {\n",
        "    \"1a9c1a389044806f9825e2e713d02e62\": \"シーンログ\",\n",
        "    \"1acc1a38904480d0acf1fabe9728f5fc\": \"設定DB\"\n",
        "}\n",
        "\n",
        "# APIヘッダー\n",
        "headers = {\n",
        "    \"Authorization\": f\"Bearer {os.environ['NOTION_API_KEY']}\",\n",
        "    \"Notion-Version\": \"2022-06-28\",\n",
        "    \"Content-Type\": \"application/json\"\n",
        "}\n",
        "\n",
        "# 🔹 Google Drive の保存先フォルダ\n",
        "drive_folder = \"/content/drive/MyDrive/NotionLogs\"\n",
        "os.makedirs(drive_folder, exist_ok=True)\n",
        "\n",
        "# 🔹 全データベースのデータを統合するリスト\n",
        "all_records = []\n",
        "\n",
        "# 🔥 各データベースをループ処理\n",
        "for database_id, custom_name in DATABASES.items():\n",
        "    print(f\"🔄 データベース {database_id}（{custom_name}）のデータを取得中…\")\n",
        "\n",
        "    # データベースのページを取得\n",
        "    url = f\"https://api.notion.com/v1/databases/{database_id}/query\"\n",
        "    response = requests.post(url, headers=headers)\n",
        "    data = response.json()\n",
        "\n",
        "    # 結果を格納するリスト\n",
        "    records = []\n",
        "\n",
        "    # 各ページの情報を取得\n",
        "    for page in data[\"results\"]:\n",
        "        page_id = page[\"id\"]\n",
        "        properties = page[\"properties\"]  # すべてのプロパティを取得\n",
        "\n",
        "        # **全プロパティを辞書に格納**\n",
        "        record = {\"データベース名\": custom_name}  # どのデータベースかを記録\n",
        "\n",
        "        for prop_name, prop_value in properties.items():\n",
        "            if prop_value[\"type\"] == \"title\":\n",
        "                record[prop_name] = prop_value[\"title\"][0][\"text\"][\"content\"] if prop_value[\"title\"] else \"\"\n",
        "            elif prop_value[\"type\"] == \"rich_text\":\n",
        "                record[prop_name] = prop_value[\"rich_text\"][0][\"text\"][\"content\"] if prop_value[\"rich_text\"] else \"\"\n",
        "            elif prop_value[\"type\"] == \"select\":\n",
        "                record[prop_name] = prop_value[\"select\"][\"name\"] if prop_value[\"select\"] else \"\"\n",
        "            elif prop_value[\"type\"] == \"multi_select\":\n",
        "                record[prop_name] = \", \".join([option[\"name\"] for option in prop_value[\"multi_select\"]])\n",
        "            elif prop_value[\"type\"] == \"date\":\n",
        "                record[prop_name] = prop_value[\"date\"][\"start\"] if prop_value[\"date\"] else \"\"\n",
        "            elif prop_value[\"type\"] == \"checkbox\":\n",
        "                record[prop_name] = str(prop_value[\"checkbox\"])\n",
        "            elif prop_value[\"type\"] == \"number\":\n",
        "                record[prop_name] = str(prop_value[\"number\"])\n",
        "            elif prop_value[\"type\"] == \"url\":\n",
        "                record[prop_name] = prop_value[\"url\"] if prop_value[\"url\"] else \"\"\n",
        "            elif prop_value[\"type\"] == \"email\":\n",
        "                record[prop_name] = prop_value[\"email\"] if prop_value[\"email\"] else \"\"\n",
        "            elif prop_value[\"type\"] == \"phone_number\":\n",
        "                record[prop_name] = prop_value[\"phone_number\"] if prop_value[\"phone_number\"] else \"\"\n",
        "            else:\n",
        "                record[prop_name] = \"[未対応のプロパティ]\"\n",
        "\n",
        "        # ページのブロック（本文）を取得\n",
        "        block_url = f\"https://api.notion.com/v1/blocks/{page_id}/children\"\n",
        "        block_response = requests.get(block_url, headers=headers)\n",
        "        block_data = block_response.json()\n",
        "\n",
        "        # 本文を取得して結合\n",
        "        content_list = []\n",
        "        if \"results\" in block_data:\n",
        "            for block in block_data[\"results\"]:\n",
        "                if block[\"type\"] == \"paragraph\":\n",
        "                    rich_text = block[\"paragraph\"].get(\"rich_text\", [])\n",
        "                    if rich_text:\n",
        "                        content_list.append(rich_text[0][\"text\"][\"content\"])\n",
        "\n",
        "        record[\"本文\"] = \"\\n\".join(content_list) if content_list else \"本文なし\"\n",
        "\n",
        "        # データをリストに追加\n",
        "        records.append(record)\n",
        "        all_records.append(record)  # 🔥 すべてのデータベースのデータを統合\n",
        "\n",
        "    # **個別のCSVに保存**\n",
        "    df = pd.DataFrame(records)\n",
        "    today_str = datetime.today().strftime(\"%Y%m%d\")\n",
        "    csv_filename = f\"{today_str}_{custom_name}.csv\"  # 🔹 カスタム名をファイル名に！\n",
        "    drive_csv_path = f\"{drive_folder}/{csv_filename}\"\n",
        "    df.to_csv(drive_csv_path, index=False)\n",
        "    print(f\"✅ {csv_filename} を Google Drive に保存しました！\")\n",
        "\n",
        "# **統合データを1つのCSVに保存**\n",
        "df_all = pd.DataFrame(all_records)\n",
        "all_csv_path = f\"{drive_folder}/{today_str}_全データベース.csv\"\n",
        "df_all.to_csv(all_csv_path, index=False)\n",
        "print(f\"✅ すべてのデータを統合して {all_csv_path} に保存しました！\")\n"
      ],
      "metadata": {
        "colab": {
          "base_uri": "https://localhost:8080/"
        },
        "id": "VFKtit6QAYC4",
        "outputId": "0d8b0a62-2966-49ef-a313-61b3cef00917"
      },
      "execution_count": null,
      "outputs": [
        {
          "output_type": "stream",
          "name": "stdout",
          "text": [
            "Drive already mounted at /content/drive; to attempt to forcibly remount, call drive.mount(\"/content/drive\", force_remount=True).\n",
            "🔄 データベース 1a9c1a389044806f9825e2e713d02e62（シーンログ）のデータを取得中…\n",
            "✅ 20250307_シーンログ.csv を Google Drive に保存しました！\n",
            "🔄 データベース 1acc1a38904480d0acf1fabe9728f5fc（設定DB）のデータを取得中…\n",
            "✅ 20250307_設定DB.csv を Google Drive に保存しました！\n",
            "✅ すべてのデータを統合して /content/drive/MyDrive/NotionLogs/20250307_全データベース.csv に保存しました！\n"
          ]
        }
      ]
    }
  ],
  "metadata": {
    "colab": {
      "provenance": [],
      "authorship_tag": "ABX9TyOP+NwmPe9jF2Mxw/1Sli2l",
      "include_colab_link": true
    },
    "kernelspec": {
      "display_name": "Python 3",
      "name": "python3"
    },
    "language_info": {
      "name": "python"
    }
  },
  "nbformat": 4,
  "nbformat_minor": 0
}